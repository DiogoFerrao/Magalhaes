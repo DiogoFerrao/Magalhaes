{
 "cells": [
  {
   "cell_type": "code",
   "execution_count": 39,
   "metadata": {},
   "outputs": [],
   "source": [
    "from audio_data_engine.utils.search_gui import SearchGUI"
   ]
  },
  {
   "attachments": {},
   "cell_type": "markdown",
   "metadata": {},
   "source": [
    "/media/magalhaes/DCASE2017/testing_set/Y-6Yfati1N10_80.000_90.000.wav"
   ]
  },
  {
   "cell_type": "code",
   "execution_count": 40,
   "metadata": {},
   "outputs": [
    {
     "data": {
      "application/vnd.jupyter.widget-view+json": {
       "model_id": "25e68fc807bd45d88eac39b586ef414a",
       "version_major": 2,
       "version_minor": 0
      },
      "text/plain": [
       "VBox(children=(HTML(value='<h3><b>Ready</b></h3>'), HBox(children=(VBox(children=(Label(value='Path to dataset…"
      ]
     },
     "metadata": {},
     "output_type": "display_data"
    },
    {
     "name": "stdout",
     "output_type": "stream",
     "text": [
      "['16_12_2022', 'FSD50k']\n"
     ]
    },
    {
     "name": "stdout",
     "output_type": "stream",
     "text": [
      "['16_12_2022']\n"
     ]
    }
   ],
   "source": [
    "SearchGUI().start()"
   ]
  }
 ],
 "metadata": {
  "kernelspec": {
   "display_name": "thesis",
   "language": "python",
   "name": "python3"
  },
  "language_info": {
   "codemirror_mode": {
    "name": "ipython",
    "version": 3
   },
   "file_extension": ".py",
   "mimetype": "text/x-python",
   "name": "python",
   "nbconvert_exporter": "python",
   "pygments_lexer": "ipython3",
   "version": "3.9.16"
  },
  "orig_nbformat": 4,
  "vscode": {
   "interpreter": {
    "hash": "ef79f87c576b10e568c72a8f3980445d610f706c36f338a41c3b576970b72bd5"
   }
  }
 },
 "nbformat": 4,
 "nbformat_minor": 2
}
