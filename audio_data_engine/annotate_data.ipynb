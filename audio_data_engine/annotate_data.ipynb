{
 "cells": [
  {
   "attachments": {},
   "cell_type": "markdown",
   "metadata": {},
   "source": [
    "# Audio annotation\n",
    "\n",
    "This notebook allows you to annotate audio files with the help of a vision model.\n",
    "\n",
    "> **Note:** This notebook requires ipython widget to be enabled. Please install it by running `pip install ipywidgets` and then enable it by running `jupyter nbextension enable --py widgetsnbextension`. "
   ]
  },
  {
   "cell_type": "code",
   "execution_count": 1,
   "metadata": {},
   "outputs": [],
   "source": [
    "from audio_data_engine.utils.annotation_gui import AnnotationGUI"
   ]
  },
  {
   "cell_type": "code",
   "execution_count": 2,
   "metadata": {},
   "outputs": [
    {
     "data": {
      "application/vnd.jupyter.widget-view+json": {
       "model_id": "eee7009577994dd39235016ea63a8953",
       "version_major": 2,
       "version_minor": 0
      },
      "text/plain": [
       "VBox(children=(HTML(value='<h3><b>Ready</b></h3>'), GridspecLayout(children=(HBox(children=(VBox(children=(Lab…"
      ]
     },
     "metadata": {},
     "output_type": "display_data"
    }
   ],
   "source": [
    "AnnotationGUI().start()"
   ]
  }
 ],
 "metadata": {
  "kernelspec": {
   "display_name": "magalhaes",
   "language": "python",
   "name": "python3"
  },
  "language_info": {
   "codemirror_mode": {
    "name": "ipython",
    "version": 3
   },
   "file_extension": ".py",
   "mimetype": "text/x-python",
   "name": "python",
   "nbconvert_exporter": "python",
   "pygments_lexer": "ipython3",
   "version": "3.9.16"
  },
  "orig_nbformat": 4
 },
 "nbformat": 4,
 "nbformat_minor": 2
}
