{
 "cells": [
  {
   "attachments": {},
   "cell_type": "markdown",
   "metadata": {},
   "source": [
    "# Run Sound\n",
    "\n",
    "This notebook allows to train and test the audio model, this includes data preparation, and data split.  \n",
    "\n",
    "To start make sure you have installed all requirements:\n",
    "\n",
    "```\n",
    "pip install -r requirements.txt\n",
    "```\n"
   ]
  },
  {
   "cell_type": "code",
   "execution_count": 1,
   "metadata": {},
   "outputs": [
    {
     "name": "stdout",
     "output_type": "stream",
     "text": [
      "/home/guests/msg/Magalhaes/audio_data_engine\n"
     ]
    }
   ],
   "source": [
    "%cd audio_data_engine"
   ]
  },
  {
   "attachments": {},
   "cell_type": "markdown",
   "metadata": {},
   "source": [
    "## Create dataset"
   ]
  },
  {
   "cell_type": "code",
   "execution_count": 2,
   "metadata": {},
   "outputs": [
    {
     "name": "stdout",
     "output_type": "stream",
     "text": [
      "usage: create_dataset.py [-h] [--datasets DATASETS] [--labels LABELS]\n",
      "                         [--output_dir OUTPUT_DIR]\n",
      "\n",
      "Create a dataset and splits for cross validation\n",
      "\n",
      "optional arguments:\n",
      "  -h, --help            show this help message and exit\n",
      "  --datasets DATASETS   text file with the paths to all csv files to be used\n",
      "                        by the final dataset (default:\n",
      "                        ../rethink/data/all.dataset)\n",
      "  --labels LABELS       file with expected labels (default:\n",
      "                        ../rethink/data/schreder.names)\n",
      "  --output_dir OUTPUT_DIR\n",
      "                        directory to store the resulting csv file (default:\n",
      "                        /media/magalhaes/sound/datasets)\n"
     ]
    }
   ],
   "source": [
    "!python create_dataset.py -h"
   ]
  },
  {
   "cell_type": "code",
   "execution_count": null,
   "metadata": {},
   "outputs": [],
   "source": [
    "!python create_dataset.py "
   ]
  },
  {
   "attachments": {},
   "cell_type": "markdown",
   "metadata": {},
   "source": [
    "## Preprocess audios\n",
    "\n",
    "To improve the training speed we preprocess the audios, extract the mel spectrograms, and save them in a .npy file."
   ]
  },
  {
   "cell_type": "code",
   "execution_count": null,
   "metadata": {},
   "outputs": [],
   "source": [
    "%cd ../rethink"
   ]
  },
  {
   "cell_type": "code",
   "execution_count": 5,
   "metadata": {},
   "outputs": [
    {
     "name": "stdout",
     "output_type": "stream",
     "text": [
      "usage: preprocess.py [-h] [--sample_rate SAMPLE_RATE] [--n_mels N_MELS]\n",
      "                     [--image_length IMAGE_LENGTH] [--duration DURATION]\n",
      "                     [--effi_extractor] [--export_extractor] [--waveform_only]\n",
      "                     [--labels_path LABELS_PATH] [--output_dir OUTPUT_DIR]\n",
      "                     [--device DEVICE]\n",
      "                     csv_file\n",
      "\n",
      "Preprocesses audio files into 3 channel spectrograms and stores the result in\n",
      "an npy file\n",
      "\n",
      "positional arguments:\n",
      "  csv_file              csv file with the dataset\n",
      "\n",
      "optional arguments:\n",
      "  -h, --help            show this help message and exit\n",
      "  --sample_rate SAMPLE_RATE\n",
      "                        Sample rate\n",
      "  --n_mels N_MELS       Number of mel filterbanks which defines the height of\n",
      "                        the spectrogram\n",
      "  --image_length IMAGE_LENGTH\n",
      "                        Width of 3 channel spectrogram after preprocessing\n",
      "  --duration DURATION   Duration of audios (larger audios will clipped and\n",
      "                        smaller will be padded)\n",
      "  --effi_extractor\n",
      "  --export_extractor\n",
      "  --waveform_only\n",
      "  --labels_path LABELS_PATH\n",
      "  --output_dir OUTPUT_DIR\n",
      "  --device DEVICE\n"
     ]
    }
   ],
   "source": [
    "!python preprocess.py -h"
   ]
  },
  {
   "cell_type": "code",
   "execution_count": null,
   "metadata": {},
   "outputs": [],
   "source": [
    "!python preprocess.py <PATH_TO_DATASET_CSV> --export_extractor --device 0"
   ]
  },
  {
   "attachments": {},
   "cell_type": "markdown",
   "metadata": {},
   "source": [
    "## Dev Train\n",
    "\n",
    "The config file specifies the parameters for the training, the pretrained weights and other parameters.\n",
    "This will train the model twice, and compute the cross validation evaluation."
   ]
  },
  {
   "cell_type": "code",
   "execution_count": null,
   "metadata": {},
   "outputs": [],
   "source": [
    "!python train.py \\\n",
    "  --config_path ./config/schreder_yolov7_tiny_distilled.json \\\n",
    "  --exp_name \"distilled-yolov7-tiny_$(date +%s)\""
   ]
  },
  {
   "attachments": {},
   "cell_type": "markdown",
   "metadata": {},
   "source": [
    "Alternatively, you can just run the default finetune (you might need to change some values)\n",
    "\n",
    "```\n",
    "cd run\n",
    "./train.sh ./config/schreder_yolov7_tiny_distilled.json distilled-yolov7-tiny\n",
    "```"
   ]
  },
  {
   "attachments": {},
   "cell_type": "markdown",
   "metadata": {},
   "source": [
    "## Full train"
   ]
  },
  {
   "cell_type": "code",
   "execution_count": null,
   "metadata": {},
   "outputs": [],
   "source": [
    "!python train.py \\\n",
    "  --config_path ./config/schreder_yolov7_tiny_distilled_full.json \\\n",
    "  --exp_name \"distilled-yolov7-tiny_$(date +%s)\""
   ]
  },
  {
   "attachments": {},
   "cell_type": "markdown",
   "metadata": {},
   "source": [
    "## Evaluate\n",
    "\n",
    "To evaluate make sure you change the `checkpoint` parameter in the config file to the path of the checkpoint you want to evaluate."
   ]
  },
  {
   "cell_type": "code",
   "execution_count": null,
   "metadata": {},
   "outputs": [],
   "source": [
    "!python evaluate.py \\\n",
    "  --config_path ./config/schreder_yolov7_tiny.json"
   ]
  }
 ],
 "metadata": {
  "kernelspec": {
   "display_name": "thesis",
   "language": "python",
   "name": "python3"
  },
  "language_info": {
   "codemirror_mode": {
    "name": "ipython",
    "version": 3
   },
   "file_extension": ".py",
   "mimetype": "text/x-python",
   "name": "python",
   "nbconvert_exporter": "python",
   "pygments_lexer": "ipython3",
   "version": "3.9.16"
  },
  "orig_nbformat": 4,
  "vscode": {
   "interpreter": {
    "hash": "ef79f87c576b10e568c72a8f3980445d610f706c36f338a41c3b576970b72bd5"
   }
  }
 },
 "nbformat": 4,
 "nbformat_minor": 2
}
