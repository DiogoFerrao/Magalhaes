{
 "cells": [
  {
   "cell_type": "code",
   "execution_count": 2,
   "metadata": {},
   "outputs": [
    {
     "data": {
      "application/vnd.jupyter.widget-view+json": {
       "model_id": "001fd6518b454f43b931084bca2d25d7",
       "version_major": 2,
       "version_minor": 0
      },
      "text/plain": [
       "Dropdown(description='Select Folder:', options=(('AddGaussianNoise0', 'AddGaussianNoise0'), ('AddGaussianNoise…"
      ]
     },
     "metadata": {},
     "output_type": "display_data"
    },
    {
     "data": {
      "application/vnd.jupyter.widget-view+json": {
       "model_id": "65e79fb8698143eebf3dca687f6fb9b2",
       "version_major": 2,
       "version_minor": 0
      },
      "text/plain": [
       "Button(description='Load Data', style=ButtonStyle())"
      ]
     },
     "metadata": {},
     "output_type": "display_data"
    }
   ],
   "source": [
    "# Initial Setup and Utility Functions\n",
    "import os\n",
    "import pickle as pkl\n",
    "import matplotlib.pyplot as plt\n",
    "import ipywidgets as widgets\n",
    "from IPython.display import display\n",
    "\n",
    "def load_pkl(file_path):\n",
    "    \"\"\"Load data from a .pkl file.\"\"\"\n",
    "    with open(file_path, 'rb') as file:\n",
    "        data = pkl.load(file)\n",
    "    return data\n",
    "\n",
    "def load_all_pkls_in_folder(folder_path):\n",
    "    \"\"\"Load all .pkl files in the specified folder and combine them into a single list.\"\"\"\n",
    "    combined_data = []\n",
    "    \n",
    "    for file in os.listdir(folder_path):\n",
    "        if file.endswith('.pkl'):\n",
    "            file_path = os.path.join(folder_path, file)\n",
    "            combined_data.extend(load_pkl(file_path))\n",
    "            \n",
    "    return combined_data\n",
    "\n",
    "def get_original_for_augmented(augmented_entry, all_data):\n",
    "    \"\"\"Get the original spectrogram for an augmented entry.\"\"\"\n",
    "    return next((entry for entry in all_data if entry['filename'] == augmented_entry['filename'] and not entry.get('augmented', False)), None)\n",
    "\n",
    "def display_spectrogram_comparison(augmented_data, all_data, entry_index):\n",
    "    \"\"\"Display the comparison between the original and augmented spectrogram.\"\"\"\n",
    "    augmented_entry = augmented_data[entry_index]\n",
    "    original_entry = get_original_for_augmented(augmented_entry, all_data)\n",
    "    \n",
    "    plt.figure(figsize=(20, 4))\n",
    "    \n",
    "    # Display Original\n",
    "    plt.subplot(1, 2, 1)\n",
    "    if original_entry:\n",
    "        plt.imshow(original_entry['spectograms'][0])\n",
    "        plt.title(f\"Original Spectrogram for {original_entry['filename']}\")\n",
    "        plt.colorbar()\n",
    "    else:\n",
    "        print(f\"No original spectrogram found for {augmented_entry['filename']}\")\n",
    "    \n",
    "    # Display Augmented\n",
    "    plt.subplot(1, 2, 2)\n",
    "    plt.imshow(augmented_entry['spectograms'][0])\n",
    "    plt.title(f\"Augmented Spectrogram for {augmented_entry['filename']}\")\n",
    "    plt.colorbar()\n",
    "    \n",
    "    plt.tight_layout()\n",
    "    plt.show()\n",
    "\n",
    "base_path = '/media/magalhaes/sound/spectograms/'\n",
    "folder_options = [(folder, folder) for folder in os.listdir(base_path) if os.path.isdir(os.path.join(base_path, folder))]\n",
    "\n",
    "# ... [Initial code and functions remain unchanged]\n",
    "\n",
    "global augmented_data  # Global variable for augmented data\n",
    "global all_data  # Variable to hold all data for fetching the original spectrogram\n",
    "augmented_data = []\n",
    "all_data = []\n",
    "\n",
    "entry_slider = widgets.IntSlider(\n",
    "    value=0,\n",
    "    min=0,\n",
    "    max=0,  # This will be updated after data is loaded\n",
    "    step=1,\n",
    "    description='Select Entry:',\n",
    "    continuous_update=False,\n",
    "    disabled=True  # Initially, set this to disabled\n",
    ")\n",
    "\n",
    "# Sort the folder options alphabetically\n",
    "folder_options.sort(key=lambda x: x[0])\n",
    "\n",
    "folder_selector = widgets.Dropdown(\n",
    "    options=folder_options,\n",
    "    description='Select Folder:',\n",
    "    disabled=False,\n",
    ")\n",
    "\n",
    "load_button = widgets.Button(description=\"Load Data\")\n",
    "\n",
    "def on_load_button_click(btn):\n",
    "    global augmented_data\n",
    "    global all_data\n",
    "    folder_path = os.path.join(base_path, folder_selector.value)\n",
    "    all_data = load_all_pkls_in_folder(folder_path)\n",
    "    \n",
    "    # Filter out only augmented entries\n",
    "    augmented_data = [entry for entry in all_data if entry.get('augmented', False)]\n",
    "    print(f\"Loaded {len(augmented_data)} augmented entries.\")\n",
    "    \n",
    "    # Update entry_slider's max value and enable it after loading new data\n",
    "    entry_slider.max = len(augmented_data) - 1 if augmented_data else 0\n",
    "    entry_slider.disabled = False  # Enable the slider after loading data\n",
    "\n",
    "load_button.on_click(on_load_button_click)\n",
    "\n",
    "# Display the widgets\n",
    "display(folder_selector, load_button)"
   ]
  },
  {
   "cell_type": "markdown",
   "metadata": {},
   "source": [
    "# Instructions\n",
    "\n",
    "Dont \"Run All\", run the first cell, select the folder to view, click Load Data and then run the second cell"
   ]
  },
  {
   "cell_type": "code",
   "execution_count": 3,
   "metadata": {},
   "outputs": [
    {
     "data": {
      "application/vnd.jupyter.widget-view+json": {
       "model_id": "c9673516fbab4953831a3d698b802b4a",
       "version_major": 2,
       "version_minor": 0
      },
      "text/plain": [
       "interactive(children=(IntSlider(value=0, continuous_update=False, description='Select Entry:', max=2317), Outp…"
      ]
     },
     "execution_count": 13,
     "metadata": {},
     "output_type": "execute_result"
    },
    {
     "name": "stdout",
     "output_type": "stream",
     "text": [
      "Loaded 2208 augmented entries.\n"
     ]
    },
    {
     "data": {
      "application/vnd.jupyter.widget-view+json": {
       "model_id": "a145da1c0e4b4249be18f48f7637c595",
       "version_major": 2,
       "version_minor": 0
      },
      "text/plain": [
       "interactive(children=(IntSlider(value=0, continuous_update=False, description='Select Entry:', max=2207), Outp…"
      ]
     },
     "execution_count": 3,
     "metadata": {},
     "output_type": "execute_result"
    }
   ],
   "source": [
    "def update_display(entry_index):\n",
    "    display_spectrogram_comparison(augmented_data, all_data, entry_index)\n",
    "\n",
    "widgets.interactive(update_display, entry_index=entry_slider)\n"
   ]
  },
  {
   "cell_type": "code",
   "execution_count": 4,
   "metadata": {},
   "outputs": [
    {
     "data": {
      "application/vnd.jupyter.widget-view+json": {
       "model_id": "518842035cd8424dac25b05e61a65cbe",
       "version_major": 2,
       "version_minor": 0
      },
      "text/plain": [
       "Dropdown(description='Select Folder:', options=(('AddGaussianNoise0', 'AddGaussianNoise0'), ('AddGaussianNoise…"
      ]
     },
     "metadata": {},
     "output_type": "display_data"
    },
    {
     "data": {
      "application/vnd.jupyter.widget-view+json": {
       "model_id": "5101effea6bc41e88d3d1f5cd800a5c0",
       "version_major": 2,
       "version_minor": 0
      },
      "text/plain": [
       "Button(description='Load Data', style=ButtonStyle())"
      ]
     },
     "metadata": {},
     "output_type": "display_data"
    }
   ],
   "source": [
    "# Initial Setup and Utility Functions\n",
    "import os\n",
    "import pickle as pkl\n",
    "import matplotlib.pyplot as plt\n",
    "import ipywidgets as widgets\n",
    "from IPython.display import display\n",
    "\n",
    "def load_pkl(file_path):\n",
    "    \"\"\"Load data from a .pkl file.\"\"\"\n",
    "    with open(file_path, 'rb') as file:\n",
    "        data = pkl.load(file)\n",
    "    return data\n",
    "\n",
    "def load_all_pkls_in_folder(folder_path):\n",
    "    \"\"\"Load all .pkl files in the specified folder and combine them into a single list.\"\"\"\n",
    "    combined_data = []\n",
    "    \n",
    "    for file in os.listdir(folder_path):\n",
    "        if file.endswith('.pkl'):\n",
    "            file_path = os.path.join(folder_path, file)\n",
    "            combined_data.extend(load_pkl(file_path))\n",
    "            \n",
    "    return combined_data\n",
    "\n",
    "def get_original_for_augmented(augmented_entry, all_data):\n",
    "    \"\"\"Get the original spectrogram for an augmented entry.\"\"\"\n",
    "    return next((entry for entry in all_data if entry['filename'] == augmented_entry['filename'] and not entry.get('augmented', False)), None)\n",
    "\n",
    "def display_spectrogram_comparison(augmented_data, all_data, entry_index):\n",
    "    \"\"\"Display the comparison between the original and augmented spectrogram.\"\"\"\n",
    "    augmented_entry = augmented_data[entry_index]\n",
    "    original_entry = get_original_for_augmented(augmented_entry, all_data)\n",
    "    \n",
    "    plt.figure(figsize=(20, 4))\n",
    "    \n",
    "    # Display Original\n",
    "    plt.subplot(1, 2, 1)\n",
    "    if original_entry:\n",
    "        plt.imshow(original_entry['spectograms'][0])\n",
    "        plt.title(f\"Original Spectrogram for {original_entry['filename']}\")\n",
    "        plt.colorbar()\n",
    "    else:\n",
    "        print(f\"No original spectrogram found for {augmented_entry['filename']}\")\n",
    "    \n",
    "    # Display Augmented\n",
    "    plt.subplot(1, 2, 2)\n",
    "    plt.imshow(augmented_entry['spectograms'][0])\n",
    "    plt.title(f\"Augmented Spectrogram for {augmented_entry['filename']}\")\n",
    "    plt.colorbar()\n",
    "    \n",
    "    plt.tight_layout()\n",
    "    plt.show()\n",
    "\n",
    "base_path = '/media/magalhaes/sound/spectograms/'\n",
    "folder_options = [(folder, folder) for folder in os.listdir(base_path) if os.path.isdir(os.path.join(base_path, folder))]\n",
    "\n",
    "# ... [Initial code and functions remain unchanged]\n",
    "\n",
    "global augmented_data  # Global variable for augmented data\n",
    "global all_data  # Variable to hold all data for fetching the original spectrogram\n",
    "augmented_data = []\n",
    "all_data = []\n",
    "\n",
    "entry_slider = widgets.IntSlider(\n",
    "    value=0,\n",
    "    min=0,\n",
    "    max=0,  # This will be updated after data is loaded\n",
    "    step=1,\n",
    "    description='Select Entry:',\n",
    "    continuous_update=False,\n",
    "    disabled=True  # Initially, set this to disabled\n",
    ")\n",
    "\n",
    "# Sort the folder options alphabetically\n",
    "folder_options.sort(key=lambda x: x[0])\n",
    "\n",
    "folder_selector = widgets.Dropdown(\n",
    "    options=folder_options,\n",
    "    description='Select Folder:',\n",
    "    disabled=False,\n",
    ")\n",
    "\n",
    "load_button = widgets.Button(description=\"Load Data\")\n",
    "\n",
    "def on_load_button_click(btn):\n",
    "    global augmented_data\n",
    "    global all_data\n",
    "    folder_path = os.path.join(base_path, folder_selector.value)\n",
    "    all_data = load_all_pkls_in_folder(folder_path)\n",
    "    \n",
    "    # Filter out only augmented entries\n",
    "    augmented_data = [entry for entry in all_data if entry.get('augmented', False)]\n",
    "    print(f\"Loaded {len(augmented_data)} augmented entries.\")\n",
    "    \n",
    "    # Update entry_slider's max value and enable it after loading new data\n",
    "    entry_slider.max = len(augmented_data) - 1 if augmented_data else 0\n",
    "    entry_slider.disabled = False  # Enable the slider after loading data\n",
    "\n",
    "load_button.on_click(on_load_button_click)\n",
    "\n",
    "# Display the widgets\n",
    "display(folder_selector, load_button)"
   ]
  },
  {
   "cell_type": "code",
   "execution_count": 5,
   "metadata": {},
   "outputs": [
    {
     "name": "stdout",
     "output_type": "stream",
     "text": [
      "Loaded 2318 augmented entries.\n"
     ]
    },
    {
     "data": {
      "application/vnd.jupyter.widget-view+json": {
       "model_id": "efa1909def7d4961aa47df2abc9adb10",
       "version_major": 2,
       "version_minor": 0
      },
      "text/plain": [
       "interactive(children=(IntSlider(value=0, continuous_update=False, description='Select Entry:', max=2317), Outp…"
      ]
     },
     "execution_count": 5,
     "metadata": {},
     "output_type": "execute_result"
    }
   ],
   "source": [
    "def update_display(entry_index):\n",
    "    display_spectrogram_comparison(augmented_data, all_data, entry_index)\n",
    "\n",
    "widgets.interactive(update_display, entry_index=entry_slider)\n"
   ]
  }
 ],
 "metadata": {
  "kernelspec": {
   "display_name": "magalhaes",
   "language": "python",
   "name": "python3"
  },
  "language_info": {
   "codemirror_mode": {
    "name": "ipython",
    "version": 3
   },
   "file_extension": ".py",
   "mimetype": "text/x-python",
   "name": "python",
   "nbconvert_exporter": "python",
   "pygments_lexer": "ipython3",
   "version": "3.10.13"
  }
 },
 "nbformat": 4,
 "nbformat_minor": 2
}
