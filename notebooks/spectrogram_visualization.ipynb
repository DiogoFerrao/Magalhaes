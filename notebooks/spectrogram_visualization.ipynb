{
 "cells": [
  {
   "cell_type": "code",
   "execution_count": 1,
   "metadata": {},
   "outputs": [],
   "source": [
    "# Initial Setup\n",
    "import os\n",
    "import pickle as pkl\n",
    "import numpy as np\n",
    "import matplotlib.pyplot as plt\n",
    "import ipywidgets as widgets\n",
    "from IPython.display import display\n",
    "\n",
    "# Utility Functions\n",
    "\n",
    "def load_pkl(file_path):\n",
    "    \"\"\"Load data from a .pkl file.\"\"\"\n",
    "    with open(file_path, 'rb') as file:\n",
    "        data = pkl.load(file)\n",
    "    return data\n",
    "\n",
    "def load_all_pkls_in_folder(folder_path):\n",
    "    \"\"\"Load all .pkl files in the specified folder and combine them into a single list.\"\"\"\n",
    "    combined_data = []\n",
    "    \n",
    "    for file in os.listdir(folder_path):\n",
    "        if file.endswith('.pkl'):\n",
    "            file_path = os.path.join(folder_path, file)\n",
    "            combined_data.extend(load_pkl(file_path))\n",
    "            \n",
    "    return combined_data\n",
    "\n",
    "def display_spectrogram(data, entry_index):\n",
    "    \"\"\"Display the spectrogram for a specific entry in the data.\"\"\"\n",
    "    entry = data[entry_index]\n",
    "    plt.figure(figsize=(10, 4))\n",
    "    plt.imshow(entry['spectograms'][0])\n",
    "    plt.title(f\"Spectrogram for {entry['filename']}\")\n",
    "    plt.colorbar()\n",
    "    plt.show()\n"
   ]
  },
  {
   "cell_type": "code",
   "execution_count": 2,
   "metadata": {},
   "outputs": [],
   "source": [
    "base_path = '/media/magalhaes/sound/spectograms/'\n",
    "folder_options = [(folder, folder) for folder in os.listdir(base_path) if os.path.isdir(os.path.join(base_path, folder))]\n",
    "\n",
    "global data  # Declare data as a global variable to be used across cells\n",
    "data = []\n",
    "\n",
    "entry_slider = widgets.IntSlider(\n",
    "    value=0,\n",
    "    min=0,\n",
    "    max=0,  # This will be updated after data is loaded\n",
    "    step=1,\n",
    "    description='Select Entry:',\n",
    "    continuous_update=False\n",
    ")\n",
    "\n",
    "def load_data(folder_selector_value):\n",
    "    global data\n",
    "    folder_path = os.path.join(base_path, folder_selector_value)\n",
    "    data = load_all_pkls_in_folder(folder_path)\n",
    "    print(f\"Loaded {len(data)} entries.\")\n",
    "\n",
    "    # Update entry_slider's max value after loading new data\n",
    "    entry_slider.max = len(data) - 1\n",
    "\n"
   ]
  },
  {
   "cell_type": "code",
   "execution_count": 3,
   "metadata": {},
   "outputs": [
    {
     "data": {
      "application/vnd.jupyter.widget-view+json": {
       "model_id": "58cdec50324b48339bae6e35cbbe9ba0",
       "version_major": 2,
       "version_minor": 0
      },
      "text/plain": [
       "Dropdown(description='Select Folder:', options=(('Oversampler0', 'Oversampler0'), ('BackgroundNoise_AirAbsorpt…"
      ]
     },
     "metadata": {},
     "output_type": "display_data"
    },
    {
     "data": {
      "application/vnd.jupyter.widget-view+json": {
       "model_id": "dd179888b91641a1a2e030b7f9d52081",
       "version_major": 2,
       "version_minor": 0
      },
      "text/plain": [
       "Button(description='Load Data', style=ButtonStyle())"
      ]
     },
     "metadata": {},
     "output_type": "display_data"
    }
   ],
   "source": [
    "folder_selector = widgets.Dropdown(\n",
    "    options=folder_options,\n",
    "    description='Select Folder:',\n",
    "    disabled=False,\n",
    ")\n",
    "\n",
    "load_button = widgets.Button(description=\"Load Data\")\n",
    "\n",
    "def on_load_button_click(btn):\n",
    "    load_data(folder_selector.value)\n",
    "\n",
    "load_button.on_click(on_load_button_click)\n",
    "\n",
    "display(folder_selector, load_button)\n"
   ]
  },
  {
   "cell_type": "code",
   "execution_count": 4,
   "metadata": {},
   "outputs": [
    {
     "name": "stdout",
     "output_type": "stream",
     "text": [
      "Loaded 14904 entries.\n"
     ]
    },
    {
     "data": {
      "application/vnd.jupyter.widget-view+json": {
       "model_id": "7416c7accb2244d8bf993a68bba272ae",
       "version_major": 2,
       "version_minor": 0
      },
      "text/plain": [
       "interactive(children=(IntSlider(value=0, continuous_update=False, description='Select Entry:', max=14903), Out…"
      ]
     },
     "execution_count": 6,
     "metadata": {},
     "output_type": "execute_result"
    },
    {
     "name": "stdout",
     "output_type": "stream",
     "text": [
      "Loaded 15018 entries.\n"
     ]
    },
    {
     "data": {
      "application/vnd.jupyter.widget-view+json": {
       "model_id": "593c8f1ef1ee46768487a6a1f240e343",
       "version_major": 2,
       "version_minor": 0
      },
      "text/plain": [
       "interactive(children=(IntSlider(value=0, continuous_update=False, description='Select Entry:', max=15017), Out…"
      ]
     },
     "execution_count": 4,
     "metadata": {},
     "output_type": "execute_result"
    },
    {
     "data": {
      "image/png": "[encoded data removed]",
      "text/plain": [
       "<Figure size 1000x400 with 1 Axes>"
      ]
     },
     "metadata": {},
     "output_type": "display_data"
    },
    {
     "name": "stdout",
     "output_type": "stream",
     "text": [
      "Loaded 13641 entries.\n"
     ]
    },
    {
     "data": {
      "application/vnd.jupyter.widget-view+json": {
       "model_id": "60f4a07dbcf6406f8facfafd624607e3",
       "version_major": 2,
       "version_minor": 0
      },
      "text/plain": [
       "interactive(children=(IntSlider(value=0, continuous_update=False, description='Select Entry:', max=13640), Out…"
      ]
     },
     "execution_count": 4,
     "metadata": {},
     "output_type": "execute_result"
    }
   ],
   "source": [
    "def update_display(entry_index):\n",
    "    display_spectrogram(data, entry_index)\n",
    "\n",
    "widgets.interactive(update_display, entry_index=entry_slider)\n"
   ]
  }
 ],
 "metadata": {
  "kernelspec": {
   "display_name": "magalhaes",
   "language": "python",
   "name": "python3"
  },
  "language_info": {
   "codemirror_mode": {
    "name": "ipython",
    "version": 3
   },
   "file_extension": ".py",
   "mimetype": "text/x-python",
   "name": "python",
   "nbconvert_exporter": "python",
   "pygments_lexer": "ipython3",
   "version": "3.10.13"
  }
 },
 "nbformat": 4,
 "nbformat_minor": 2
}
