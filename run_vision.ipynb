{
 "cells": [
  {
   "attachments": {},
   "cell_type": "markdown",
   "metadata": {},
   "source": [
    "# Run Vision\n",
    "\n",
    "This notebook allows to train and test the vision model, this includes data preparation, and data split.  \n",
    "\n",
    "To start make sure you have installed all requirements:\n",
    "\n",
    "```\n",
    "pip install -r requirements.txt\n",
    "```\n"
   ]
  },
  {
   "attachments": {},
   "cell_type": "markdown",
   "metadata": {},
   "source": [
    "## Create dataset"
   ]
  },
  {
   "cell_type": "code",
   "execution_count": 1,
   "metadata": {},
   "outputs": [
    {
     "name": "stdout",
     "output_type": "stream",
     "text": [
      "/home/guests/msg/Magalhaes/vision_data_engine\n"
     ]
    }
   ],
   "source": [
    "%cd vision_data_engine"
   ]
  },
  {
   "cell_type": "code",
   "execution_count": 2,
   "metadata": {},
   "outputs": [
    {
     "name": "stdout",
     "output_type": "stream",
     "text": [
      "usage: create_dataset.py [-h] [--datasets_file DATASETS_FILE]\n",
      "                         [--output_dir OUTPUT_DIR] [--test_set TEST_SET]\n",
      "                         [--create_test_set] [--names NAMES]\n",
      "                         [--test_set_size TEST_SET_SIZE]\n",
      "                         [--max_class_ratio MAX_CLASS_RATIO]\n",
      "                         [--test_subsets TEST_SUBSETS [TEST_SUBSETS ...]]\n",
      "\n",
      "optional arguments:\n",
      "  -h, --help            show this help message and exit\n",
      "  --datasets_file DATASETS_FILE\n",
      "                        txt file combining datasets (default:\n",
      "                        ../yolov7/data/all.dataset)\n",
      "  --output_dir OUTPUT_DIR\n",
      "                        output labels directory (default:\n",
      "                        /media/magalhaes/vision/datasets)\n",
      "  --test_set TEST_SET   txt file with test set (default: None)\n",
      "  --create_test_set     Creates a new test set and save the old one (default:\n",
      "                        False)\n",
      "  --names NAMES         File with class names (default:\n",
      "                        ../yolov7/data/schreder.names)\n",
      "  --test_set_size TEST_SET_SIZE\n",
      "                        Size of test set (default: 500)\n",
      "  --max_class_ratio MAX_CLASS_RATIO\n",
      "                        Maximum ratio of samples per class present in the test\n",
      "                        set (default: 0.2)\n",
      "  --test_subsets TEST_SUBSETS [TEST_SUBSETS ...]\n",
      "                        Maximum ratio of samples per class present in the test\n",
      "                        set (default: ['/media/magalhaes/schreder/day_test_set\n",
      "                        /schreder_day.txt', '/media/magalhaes/schreder/night_t\n",
      "                        est_set/schreder_night.txt'])\n"
     ]
    }
   ],
   "source": [
    "!python create_dataset.py -h"
   ]
  },
  {
   "cell_type": "code",
   "execution_count": null,
   "metadata": {},
   "outputs": [],
   "source": [
    "!python create_dataset.py"
   ]
  },
  {
   "attachments": {},
   "cell_type": "markdown",
   "metadata": {},
   "source": [
    "## Train\n",
    "\n",
    "We provide the commands to train both YOLOv7 and YOLOv7 tiny models. "
   ]
  },
  {
   "cell_type": "code",
   "execution_count": null,
   "metadata": {},
   "outputs": [],
   "source": [
    "!python train.py \\\n",
    "  --workers 8 \\\n",
    "  --device 0 \\\n",
    "  --batch-size 32 \\\n",
    "  --data ./data/schreder.yaml \\\n",
    "  --cfg ./cfg/training/yolov7-schreder.yaml \\\n",
    "  --weights /media/magalhaes/vision/pretrained/yolov7_training.pt \\\n",
    "  --name yolov7 \\\n",
    "  --hyp data/hyp.schreder.finetuning.yaml"
   ]
  },
  {
   "attachments": {},
   "cell_type": "markdown",
   "metadata": {},
   "source": [
    "Alternatively, you can just run the bash script\n",
    "\n",
    "```\n",
    "cd run\n",
    "./train_yolov7.sh \n",
    "```"
   ]
  },
  {
   "cell_type": "code",
   "execution_count": null,
   "metadata": {},
   "outputs": [],
   "source": [
    "!python train.py \\\n",
    "  --workers 8 \\\n",
    "  --device 0 \\\n",
    "  --batch-size 64 \\\n",
    "  --data ./data/schreder.yaml \\\n",
    "  --cfg ./cfg/training/yolov7-tiny-schreder.yaml \\\n",
    "  --weights /media/magalhaes/vision/pretrained/yolov7-tiny.pt \\\n",
    "  --name yolov7-tiny \\\n",
    "  --hyp data/hyp.schreder.finetuning.tiny.yaml\n"
   ]
  },
  {
   "attachments": {},
   "cell_type": "markdown",
   "metadata": {},
   "source": [
    "Alternatively, you can just run the bash script\n",
    "\n",
    "```\n",
    "cd run\n",
    "./train_tiny.sh \n",
    "```"
   ]
  },
  {
   "attachments": {},
   "cell_type": "markdown",
   "metadata": {},
   "source": [
    "## Evaluate"
   ]
  },
  {
   "cell_type": "code",
   "execution_count": null,
   "metadata": {},
   "outputs": [],
   "source": [
    "!python test.py \\\n",
    "    --weights <PATH_TO_CHECKPOINT> \\\n",
    "    --data ./data/schreder.yaml \\\n",
    "    --conf-thres 0.05 \\\n",
    "    --iou-thres 0.55 \\\n",
    "    --batch-size 32 \\\n",
    "    --save-stats \\\n",
    "    --device 0\n"
   ]
  },
  {
   "attachments": {},
   "cell_type": "markdown",
   "metadata": {},
   "source": [
    "Alternatively, you can just run the bash script\n",
    "\n",
    "```\n",
    "cd run\n",
    "./test.sh <PATH_TO_CHECKPOINT> <PATH_TO_DATA_YAML>\n",
    "```"
   ]
  }
 ],
 "metadata": {
  "kernelspec": {
   "display_name": "thesis",
   "language": "python",
   "name": "python3"
  },
  "language_info": {
   "codemirror_mode": {
    "name": "ipython",
    "version": 3
   },
   "file_extension": ".py",
   "mimetype": "text/x-python",
   "name": "python",
   "nbconvert_exporter": "python",
   "pygments_lexer": "ipython3",
   "version": "3.9.16"
  },
  "orig_nbformat": 4,
  "vscode": {
   "interpreter": {
    "hash": "ef79f87c576b10e568c72a8f3980445d610f706c36f338a41c3b576970b72bd5"
   }
  }
 },
 "nbformat": 4,
 "nbformat_minor": 2
}
